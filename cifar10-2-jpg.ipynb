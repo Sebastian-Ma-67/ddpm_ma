{
 "cells": [
  {
   "cell_type": "code",
   "execution_count": 1,
   "metadata": {},
   "outputs": [],
   "source": [
    "import numpy as np\n",
    "# from scipy.misc import imsave\n",
    "# import matplotlib.pyplot as plt\n",
    "import os\n",
    "from PIL import Image"
   ]
  },
  {
   "cell_type": "code",
   "execution_count": 2,
   "metadata": {},
   "outputs": [],
   "source": [
    "def unpickle(file):\n",
    "    import pickle\n",
    "    with open(file, 'rb') as fo:\n",
    "        dict = pickle.load(fo, encoding='bytes')\n",
    "    return dict"
   ]
  },
  {
   "cell_type": "code",
   "execution_count": 3,
   "metadata": {},
   "outputs": [],
   "source": [
    "filename = './CIFAR10/cifar-10-batches-py'"
   ]
  },
  {
   "cell_type": "code",
   "execution_count": 4,
   "metadata": {},
   "outputs": [],
   "source": [
    "meta = unpickle(filename+'/batches.meta')\n",
    "label_name = meta[b'label_names']"
   ]
  },
  {
   "cell_type": "code",
   "execution_count": 5,
   "metadata": {},
   "outputs": [
    {
     "name": "stdout",
     "output_type": "stream",
     "text": [
      "load data...\n",
      "dict_keys([b'batch_label', b'labels', b'data', b'filenames'])\n",
      "tranfering data_batch1\n"
     ]
    }
   ],
   "source": [
    "i = 1\n",
    "content = unpickle(filename+'/data_batch_'+str(i))\n",
    "print('load data...')\n",
    "print(content.keys())\n",
    "print('tranfering data_batch' + str(i))"
   ]
  },
  {
   "cell_type": "code",
   "execution_count": 6,
   "metadata": {},
   "outputs": [
    {
     "name": "stdout",
     "output_type": "stream",
     "text": [
      "train/truck/batch_1_num_1.jpg\n"
     ]
    }
   ],
   "source": [
    "j = 1\t\n",
    "img = content[b'data'][j]\n",
    "img = img.reshape(3,32,32)\n",
    "img = img.transpose(1,2,0)\n",
    "dir_path = 'train/'+label_name[content[b'labels'][j]].decode() \n",
    "if not os.path.exists(dir_path):\n",
    "    os.makedirs(dir_path)\n",
    "img_name = dir_path + '/batch_' + str(i) + '_num_' + str(j) +'.jpg'\n",
    "print(img_name)\n",
    "print(type(img))"
   ]
  },
  {
   "cell_type": "code",
   "execution_count": 12,
   "metadata": {},
   "outputs": [],
   "source": [
    "im = Image.fromarray(img)\n",
    "im.save(img_name+'.png') # 图像保存"
   ]
  }
 ],
 "metadata": {
  "kernelspec": {
   "display_name": "Python 3.7.13 ('ddpm')",
   "language": "python",
   "name": "python3"
  },
  "language_info": {
   "codemirror_mode": {
    "name": "ipython",
    "version": 3
   },
   "file_extension": ".py",
   "mimetype": "text/x-python",
   "name": "python",
   "nbconvert_exporter": "python",
   "pygments_lexer": "ipython3",
   "version": "3.7.13"
  },
  "orig_nbformat": 4,
  "vscode": {
   "interpreter": {
    "hash": "adee00a0e9565be30e60706ae2eed9cedeff33dd4d32c4e88f9b21939d8c48e0"
   }
  }
 },
 "nbformat": 4,
 "nbformat_minor": 2
}
